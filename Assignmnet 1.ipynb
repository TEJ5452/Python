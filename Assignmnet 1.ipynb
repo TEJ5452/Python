{
 "cells": [
  {
   "cell_type": "code",
   "execution_count": 1,
   "id": "68d01567-8e2e-432e-b8de-76d84014d279",
   "metadata": {},
   "outputs": [],
   "source": [
    "#Assignment 1"
   ]
  },
  {
   "cell_type": "markdown",
   "id": "fbc13977-5152-462b-be04-e0a0aaddf0f8",
   "metadata": {},
   "source": [
    "# 1. Explain the key features of Python that make it a popular choice for programming?\n",
    "   - The key features of Python is that firstly it is popular due to its simplicity,versatility and a good ecosystem of libraries making it ideal for        beginners and experts alike.\n",
    "   - It is easy to learn because of its english language usage , it has rich ecosystem of libraries like Pandas,Numpy,seaborn etc.\n",
    "   - It has a huge community because of its world level usage and one of the most important feature of its is that is free and open source.\n",
    "     "
   ]
  },
  {
   "cell_type": "code",
   "execution_count": 6,
   "id": "a3cddd89-3004-4bad-aa89-ef991d41f36c",
   "metadata": {},
   "outputs": [
    {
     "name": "stdout",
     "output_type": "stream",
     "text": [
      "hello world\n",
      "hello python\n"
     ]
    }
   ],
   "source": [
    "#2. Describe the role of predefined keywords in Python and provide examples of how they are used in a program?\n",
    "  # - The role of predefined keywords in Python is to control logic, define functions and it's role,and  to handle exceptions and more.\n",
    "   #- The example are as follows:-\n",
    "\n",
    "# example \n",
    "\n",
    "print(\"hello world\")\n",
    "print(\"hello python\")\n"
   ]
  },
  {
   "cell_type": "code",
   "execution_count": 7,
   "id": "783a52c2-6ea1-4938-9ffc-3e556344d667",
   "metadata": {},
   "outputs": [
    {
     "name": "stdout",
     "output_type": "stream",
     "text": [
      "[100, 2, 3]\n",
      "Bob\n"
     ]
    }
   ],
   "source": [
    "#3 Compare and contrast mutable and immutable objects in Python with examples?\n",
    "#-The meaning of mutable in general term is 'to change' something and in broader terms the objects/content whose state or value can be changed after they are created are called as mutable objects or content  while the immutable in general term means the things 'cannot be changed' which means the objects/content whose state or value cannot be changed after they are created are called immutable objects .\n",
    "\n",
    "#Mutable Objects:-\n",
    "#example: list,dict,set\n",
    "\n",
    "#example\n",
    "my_list = [1, 2, 3]\n",
    "my_list[0] = 100\n",
    "print(my_list)\n",
    "\n",
    "#Immutable objects:-\n",
    "#example: int,float,str\n",
    "\n",
    "#example\n",
    "name = \"Alice\"\n",
    "name = \"Bob\"\n",
    "print (name) \n",
    "\n"
   ]
  },
  {
   "cell_type": "code",
   "execution_count": 9,
   "id": "a03cba1f-b6f6-4714-8a7d-22c4659df54c",
   "metadata": {},
   "outputs": [
    {
     "name": "stdout",
     "output_type": "stream",
     "text": [
      "5\n"
     ]
    }
   ],
   "source": [
    "#4 Discuss the different types of operators in Python and provide examples of how they are used?\n",
    "#- The special keywords/symbols that are use to perform operations on value or variables are called as pyhton operators.We use these operators because     we want to manage,do computation and make decision by using these data.Examples are as follows:-\n",
    "\n",
    "#- Arthematic operators ( +,-,*,/) to handle math operations.\n",
    "#- Comparison operators (==,!=,>,<) to compare values.\n",
    "#- Logical operators (and,or,not) to combine conditions.\n",
    "#- Bitwise operators ( &,|, ^) to work on binary values.\n",
    "#- Assignment operators ( =,+=,-=) to assign and update values.\n",
    "#- Membership operators (in ,not in) to check if a value exists in a sequence .\n",
    "#- Identity operators ( is ,is not) to check if two variables refer to the same object.\n",
    "\n",
    "#example\n",
    "a=3\n",
    "b=2\n",
    "print (a+b)"
   ]
  },
  {
   "cell_type": "code",
   "execution_count": 36,
   "id": "71ba7900-f2b0-46f6-be97-a3bef49d3698",
   "metadata": {},
   "outputs": [],
   "source": [
    "#5 Explain the concept of type casting in Python with examples?\n",
    "#- The process of changing or converting the data type of a value or an object is known as type casting or type conversion.\n",
    "  #This helps us to ensure compatibility between different types in operations as there can be mismatch between the data types.\n",
    "  #It is has two types:\n",
    "   #i)Implicit Casting\n",
    "    #ii)Explicit Casting\n",
    "\n",
    "#Implicit Casting:It happens automatically as python understand the datatype.\n",
    "#Explicit Casting:It convert data type using inbuilt functions.\n",
    "\n",
    "\n",
    "       \n",
    "    \n",
    "   \n",
    "    "
   ]
  },
  {
   "cell_type": "code",
   "execution_count": 37,
   "id": "efcf2207-c763-46b1-bbff-410607a1d4aa",
   "metadata": {},
   "outputs": [
    {
     "ename": "TypeError",
     "evalue": "can only concatenate str (not \"int\") to str",
     "output_type": "error",
     "traceback": [
      "\u001b[1;31m---------------------------------------------------------------------------\u001b[0m",
      "\u001b[1;31mTypeError\u001b[0m                                 Traceback (most recent call last)",
      "Cell \u001b[1;32mIn[37], line 3\u001b[0m\n\u001b[0;32m      1\u001b[0m a \u001b[38;5;241m=\u001b[39m \u001b[38;5;124m\"\u001b[39m\u001b[38;5;124m2\u001b[39m\u001b[38;5;124m\"\u001b[39m\n\u001b[0;32m      2\u001b[0m b \u001b[38;5;241m=\u001b[39m \u001b[38;5;241m3\u001b[39m\n\u001b[1;32m----> 3\u001b[0m a\u001b[38;5;241m+\u001b[39mb\n",
      "\u001b[1;31mTypeError\u001b[0m: can only concatenate str (not \"int\") to str"
     ]
    }
   ],
   "source": [
    "a = \"2\"\n",
    "b = 3\n",
    "a+b"
   ]
  },
  {
   "cell_type": "code",
   "execution_count": 38,
   "id": "b7986328-7039-4bb6-8f98-d1ad9c617b43",
   "metadata": {},
   "outputs": [
    {
     "data": {
      "text/plain": [
       "str"
      ]
     },
     "execution_count": 38,
     "metadata": {},
     "output_type": "execute_result"
    }
   ],
   "source": [
    "type(a)"
   ]
  },
  {
   "cell_type": "code",
   "execution_count": 39,
   "id": "8c57673b-6ee0-4f2e-8ca7-347b0d99398b",
   "metadata": {},
   "outputs": [
    {
     "data": {
      "text/plain": [
       "5"
      ]
     },
     "execution_count": 39,
     "metadata": {},
     "output_type": "execute_result"
    }
   ],
   "source": [
    "a = \"2\"\n",
    "b = 3\n",
    "int(a)+b"
   ]
  },
  {
   "cell_type": "code",
   "execution_count": 40,
   "id": "a8b5749a-1510-4480-a96e-0876124125a0",
   "metadata": {},
   "outputs": [
    {
     "name": "stdout",
     "output_type": "stream",
     "text": [
      "<class 'str'>\n",
      "<class 'int'>\n"
     ]
    }
   ],
   "source": [
    "#string to integer\n",
    "a =\"2\"\n",
    "print(type(a))\n",
    "print(type(int(a)))"
   ]
  },
  {
   "cell_type": "code",
   "execution_count": 41,
   "id": "65824cc1-7efc-4c16-883d-d2f8114fd358",
   "metadata": {},
   "outputs": [
    {
     "data": {
      "text/plain": [
       "float"
      ]
     },
     "execution_count": 41,
     "metadata": {},
     "output_type": "execute_result"
    }
   ],
   "source": [
    "a = 3.4\n",
    "type(a)"
   ]
  },
  {
   "cell_type": "code",
   "execution_count": 42,
   "id": "b3b6c392-753d-4ea6-ad11-ac292e080231",
   "metadata": {},
   "outputs": [
    {
     "data": {
      "text/plain": [
       "3"
      ]
     },
     "execution_count": 42,
     "metadata": {},
     "output_type": "execute_result"
    }
   ],
   "source": [
    "int(a)"
   ]
  },
  {
   "cell_type": "markdown",
   "id": "8e51c7e9-39d8-46ef-bf00-e2a518a0a836",
   "metadata": {},
   "source": [
    "#6 How do conditional statements work in Python? ILLustarte with examples.\n",
    "#- Conditional statements in Pyhton control the flow of a program based on conditions.They use if,elif, and else keywords.The if block runs when its conditions is true. If not, indentation is essential to define code blocks.\n",
    "\n",
    "#example\n"
   ]
  },
  {
   "cell_type": "raw",
   "id": "4d7e7a31-5669-4866-be60-c0f9dc183fbf",
   "metadata": {},
   "source": [
    "#if statement \n",
    "#syntax\n",
    "if condition is true:\n",
    "# block of code will be executed "
   ]
  },
  {
   "cell_type": "code",
   "execution_count": 44,
   "id": "61132972-a563-499e-b16a-1c5b5489faf8",
   "metadata": {},
   "outputs": [
    {
     "data": {
      "text/plain": [
       "False"
      ]
     },
     "execution_count": 44,
     "metadata": {},
     "output_type": "execute_result"
    }
   ],
   "source": [
    "3>4"
   ]
  },
  {
   "cell_type": "code",
   "execution_count": 45,
   "id": "3813e61e-aa20-4b5b-810a-0a4372ccddce",
   "metadata": {},
   "outputs": [
    {
     "data": {
      "text/plain": [
       "True"
      ]
     },
     "execution_count": 45,
     "metadata": {},
     "output_type": "execute_result"
    }
   ],
   "source": [
    "1<2"
   ]
  },
  {
   "cell_type": "code",
   "execution_count": 46,
   "id": "975783cd-0542-479d-96a5-972bf61f8a7c",
   "metadata": {},
   "outputs": [
    {
     "name": "stdout",
     "output_type": "stream",
     "text": [
      "I will play games\n"
     ]
    }
   ],
   "source": [
    "# if else statement\n",
    "weather = \" sunny\"\n",
    "if weather == \"sunny\":\n",
    "    print(\"I will not study\")\n",
    "else:\n",
    "    print(\"I will play games\")"
   ]
  },
  {
   "cell_type": "markdown",
   "id": "a1526130-9099-483c-972a-bed4764326b8",
   "metadata": {},
   "source": [
    "#7 Describe different types of loops in Pyhthon and their use cases with examples.\n",
    "#- Loops in Python are used to execute a block of code repeatedly.It helps us to automate repetitive tasks and improve  code efficiency in various applications.\n",
    "It has two types i)While Loop and (ii) For Loop\n",
    "\n",
    "#while loop: It repeatedly executed a block of code until a condition is met.\n",
    "\n",
    "#For loop: It is used iterate over sequences like lists,strings, or ranges."
   ]
  },
  {
   "cell_type": "code",
   "execution_count": 47,
   "id": "fcabb646-3424-45a4-90b0-83907044bea5",
   "metadata": {},
   "outputs": [
    {
     "name": "stdout",
     "output_type": "stream",
     "text": [
      "1\n",
      "2\n",
      "3\n",
      "4\n",
      "5\n",
      "6\n",
      "This will be executed when the while is run successfuly without any break\n"
     ]
    }
   ],
   "source": [
    "n = 7\n",
    "i = 1\n",
    "while i < n:\n",
    "    print(i)\n",
    "    i= i+1\n",
    "else:\n",
    "    print(\"This will be executed when the while is run successfuly without any break\")"
   ]
  },
  {
   "cell_type": "code",
   "execution_count": 48,
   "id": "54bee178-f613-451e-a74a-679b161a721a",
   "metadata": {},
   "outputs": [
    {
     "name": "stdout",
     "output_type": "stream",
     "text": [
      "A\n",
      "s\n",
      "s\n",
      "i\n",
      "g\n",
      "n\n",
      "m\n",
      "e\n",
      "n\n",
      "t\n"
     ]
    }
   ],
   "source": [
    "for i in \"Assignment\":\n",
    "    print(i)"
   ]
  },
  {
   "cell_type": "code",
   "execution_count": null,
   "id": "43b50338-27d4-488d-925e-2879b6f85149",
   "metadata": {},
   "outputs": [],
   "source": []
  }
 ],
 "metadata": {
  "kernelspec": {
   "display_name": "Python 3 (ipykernel)",
   "language": "python",
   "name": "python3"
  },
  "language_info": {
   "codemirror_mode": {
    "name": "ipython",
    "version": 3
   },
   "file_extension": ".py",
   "mimetype": "text/x-python",
   "name": "python",
   "nbconvert_exporter": "python",
   "pygments_lexer": "ipython3",
   "version": "3.12.7"
  }
 },
 "nbformat": 4,
 "nbformat_minor": 5
}
